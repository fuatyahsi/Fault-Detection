{
 "cells": [
  {
   "cell_type": "code",
   "execution_count": null,
   "id": "8a92aca0-9297-4e8b-ada8-c64e32591aef",
   "metadata": {},
   "outputs": [],
   "source": [
    "# A FAULT DETECTION & CLASSIFICATION MODEL for Manufactory "
   ]
  },
  {
   "cell_type": "markdown",
   "id": "faaab49f-8634-439a-9d00-a64c1cbb32af",
   "metadata": {},
   "source": [
    "###### Data Set Information:\n",
    "\n",
    "###### The data set was experimentally obtained with a hydraulic test rig. This test rig consists of a primary working and a secondary cooling-filtration circuit which are connected via the oil tank [1], [2]. The system cyclically repeats constant load cycles (duration 60 seconds) and measures process values such as pressures, volume flows and temperatures while the condition of four hydraulic components (cooler, valve, pump and accumulator) is quantitatively varied.\n",
    "\n",
    "\n",
    "###### Attribute Information:\n",
    "\n",
    "###### The data set was experimentally obtained with a hydraulic test rig. This test rig consists of a primary working and a secondary cooling-filtration circuit which are connected via the oil tank [1], [2]. The system cyclically repeats constant load cycles (duration 60 seconds) and measures process values such as pressures, volume flows and temperatures while the condition of four hydraulic components (cooler, valve, pump and accumulator) is quantitatively varied.\n",
    "\n",
    "###### Attribute Information:\n",
    "###### The data set contains raw process sensor data (i.e. without feature extraction) which are structured as matrices (tab-delimited) with the rows representing the cycles and the columns the data points within a cycle. The sensors involved are:\n",
    "###### Sensor Physical quantity Unit Sampling rate\n",
    "###### PS1 Pressure bar 100 Hz\n",
    "###### PS2 Pressure bar 100 Hz\n",
    "###### PS3 Pressure bar 100 Hz\n",
    "###### PS4 Pressure bar 100 Hz\n",
    "###### PS5 Pressure bar 100 Hz\n",
    "###### PS6 Pressure bar 100 Hz\n",
    "###### EPS1 Motor power W 100 Hz\n",
    "###### FS1 Volume flow l/min 10 Hz\n",
    "###### FS2 Volume flow l/min 10 Hz\n",
    "###### TS1 Temperature Â°C 1 Hz\n",
    "###### TS2 Temperature Â°C 1 Hz\n",
    "###### TS3 Temperature Â°C 1 Hz\n",
    "###### TS4 Temperature Â°C 1 Hz\n",
    "###### VS1 Vibration mm/s 1 Hz\n",
    "###### CE Cooling efficiency (virtual) % 1 Hz\n",
    "###### CP Cooling power (virtual) kW 1 Hz\n",
    "###### SE Efficiency factor % 1 Hz\n",
    "\n",
    "###### The target condition values are cycle-wise annotated in â€˜profile.txtâ€˜ (tab-delimited). As before, the row number represents the cycle number. The columns are\n",
    "\n",
    "###### 1: Cooler condition / %:\n",
    "###### 3: close to total failure\n",
    "###### 20: reduced effifiency\n",
    "###### 100: full efficiency\n",
    "\n",
    "###### 2: Valve condition / %:\n",
    "###### 100: optimal switching behavior\n",
    "###### 90: small lag\n",
    "###### 80: severe lag\n",
    "###### 73: close to total failure\n",
    "\n",
    "###### 3: Internal pump leakage:\n",
    "###### 0: no leakage\n",
    "###### 1: weak leakage\n",
    "###### 2: severe leakage\n",
    "\n",
    "###### 4: Hydraulic accumulator / bar:\n",
    "###### 130: optimal pressure\n",
    "###### 115: slightly reduced pressure\n",
    "###### 100: severely reduced pressure\n",
    "###### 90: close to total failure\n",
    "\n",
    "###### 5: stable flag:\n",
    "###### 0: conditions were stable\n",
    "###### 1: static conditions might not have been reached yet\n",
    "\n"
   ]
  },
  {
   "cell_type": "code",
   "execution_count": 67,
   "id": "9924733f-9817-40a9-a26a-d362516e586b",
   "metadata": {
    "tags": []
   },
   "outputs": [],
   "source": [
    "import pandas as pd      \n",
    "import numpy as np\n",
    "import matplotlib.pyplot as plt\n",
    "import seaborn as sns\n",
    "from datetime import datetime\n",
    "from sklearn.preprocessing import MinMaxScaler,OrdinalEncoder\n",
    "import plotly.express as px\n",
    "from ipywidgets import interact\n",
    "from ipywidgets import widgets\n",
    "from xgboost import XGBClassifier\n",
    "from lightgbm import LGBMClassifier\n",
    "from sklearn.svm import SVC\n",
    "from sklearn.ensemble import RandomForestClassifier,AdaBoostClassifier,GradientBoostingClassifier\n",
    "from sklearn.tree import DecisionTreeClassifier\n",
    "from sklearn.model_selection import train_test_split\n",
    "from sklearn.metrics import ConfusionMatrixDisplay,confusion_matrix,classification_report\n",
    "\n",
    "\n",
    "\n",
    "\n",
    "import warnings\n",
    "warnings.filterwarnings('ignore')\n",
    "######plt.rcParams[\"figure.figsize\"] = (7,4)\n",
    "pd.set_option('display.max_columns', 500)\n",
    "pd.set_option('display.max_rows', 700)"
   ]
  },
  {
   "cell_type": "code",
   "execution_count": 4,
   "id": "9b0b21a6-e09e-4088-8cba-c2370cd0f993",
   "metadata": {
    "tags": []
   },
   "outputs": [],
   "source": [
    "df = pd.read_csv(r\"avery.txt\",usecols=['Time', 'Cooling efficiency', 'Cooling power',\n",
    "       'Motor power W', 'Volume flow l/min 1', 'Volume flow l/min 2',\n",
    "       'Pressure bar 1', 'Pressure bar 2', 'Pressure bar 3', 'Pressure bar 4',\n",
    "       'Pressure bar 5', 'Pressure bar 6', 'Efficiency factor',\n",
    "       'Temperature 1', 'Temperature  2', 'Temperature  3', 'Temperature  4',\n",
    "       ' Vibration mm/s', 'Date'])"
   ]
  },
  {
   "cell_type": "code",
   "execution_count": 5,
   "id": "b5024c1d-26c7-4493-90b8-26684d4fd8fe",
   "metadata": {
    "tags": []
   },
   "outputs": [
    {
     "data": {
      "text/html": [
       "<div>\n",
       "<style scoped>\n",
       "    .dataframe tbody tr th:only-of-type {\n",
       "        vertical-align: middle;\n",
       "    }\n",
       "\n",
       "    .dataframe tbody tr th {\n",
       "        vertical-align: top;\n",
       "    }\n",
       "\n",
       "    .dataframe thead th {\n",
       "        text-align: right;\n",
       "    }\n",
       "</style>\n",
       "<table border=\"1\" class=\"dataframe\">\n",
       "  <thead>\n",
       "    <tr style=\"text-align: right;\">\n",
       "      <th></th>\n",
       "      <th>Time</th>\n",
       "      <th>Cooling efficiency</th>\n",
       "      <th>Cooling power</th>\n",
       "      <th>Motor power W</th>\n",
       "      <th>Volume flow l/min 1</th>\n",
       "      <th>Volume flow l/min 2</th>\n",
       "      <th>Pressure bar 1</th>\n",
       "      <th>Pressure bar 2</th>\n",
       "      <th>Pressure bar 3</th>\n",
       "      <th>Pressure bar 4</th>\n",
       "      <th>Pressure bar 5</th>\n",
       "      <th>Pressure bar 6</th>\n",
       "      <th>Efficiency factor</th>\n",
       "      <th>Temperature 1</th>\n",
       "      <th>Temperature  2</th>\n",
       "      <th>Temperature  3</th>\n",
       "      <th>Temperature  4</th>\n",
       "      <th>Vibration mm/s</th>\n",
       "      <th>Date</th>\n",
       "    </tr>\n",
       "  </thead>\n",
       "  <tbody>\n",
       "    <tr>\n",
       "      <th>0</th>\n",
       "      <td>0</td>\n",
       "      <td>47.202</td>\n",
       "      <td>2.184</td>\n",
       "      <td>2411.6</td>\n",
       "      <td>8.990</td>\n",
       "      <td>10.179</td>\n",
       "      <td>151.47</td>\n",
       "      <td>125.50</td>\n",
       "      <td>2.305</td>\n",
       "      <td>0.0</td>\n",
       "      <td>9.936</td>\n",
       "      <td>9.818</td>\n",
       "      <td>68.039</td>\n",
       "      <td>35.570</td>\n",
       "      <td>40.961</td>\n",
       "      <td>38.320</td>\n",
       "      <td>30.363</td>\n",
       "      <td>0.604</td>\n",
       "      <td>2018-04-26 00:00:00</td>\n",
       "    </tr>\n",
       "    <tr>\n",
       "      <th>1</th>\n",
       "      <td>60</td>\n",
       "      <td>29.208</td>\n",
       "      <td>1.414</td>\n",
       "      <td>2409.6</td>\n",
       "      <td>8.919</td>\n",
       "      <td>10.408</td>\n",
       "      <td>151.11</td>\n",
       "      <td>125.06</td>\n",
       "      <td>2.281</td>\n",
       "      <td>0.0</td>\n",
       "      <td>9.700</td>\n",
       "      <td>9.592</td>\n",
       "      <td>68.264</td>\n",
       "      <td>36.156</td>\n",
       "      <td>41.258</td>\n",
       "      <td>38.680</td>\n",
       "      <td>33.648</td>\n",
       "      <td>0.590</td>\n",
       "      <td>2018-04-26 01:00:00</td>\n",
       "    </tr>\n",
       "    <tr>\n",
       "      <th>2</th>\n",
       "      <td>120</td>\n",
       "      <td>23.554</td>\n",
       "      <td>1.159</td>\n",
       "      <td>2397.8</td>\n",
       "      <td>9.179</td>\n",
       "      <td>10.392</td>\n",
       "      <td>150.81</td>\n",
       "      <td>125.13</td>\n",
       "      <td>2.227</td>\n",
       "      <td>0.0</td>\n",
       "      <td>9.606</td>\n",
       "      <td>9.505</td>\n",
       "      <td>68.595</td>\n",
       "      <td>37.488</td>\n",
       "      <td>42.129</td>\n",
       "      <td>39.234</td>\n",
       "      <td>35.113</td>\n",
       "      <td>0.578</td>\n",
       "      <td>2018-04-26 02:00:00</td>\n",
       "    </tr>\n",
       "    <tr>\n",
       "      <th>3</th>\n",
       "      <td>180</td>\n",
       "      <td>21.540</td>\n",
       "      <td>1.101</td>\n",
       "      <td>2383.8</td>\n",
       "      <td>9.034</td>\n",
       "      <td>10.329</td>\n",
       "      <td>150.48</td>\n",
       "      <td>124.93</td>\n",
       "      <td>2.320</td>\n",
       "      <td>0.0</td>\n",
       "      <td>9.528</td>\n",
       "      <td>9.422</td>\n",
       "      <td>68.628</td>\n",
       "      <td>38.633</td>\n",
       "      <td>43.039</td>\n",
       "      <td>40.086</td>\n",
       "      <td>36.133</td>\n",
       "      <td>0.565</td>\n",
       "      <td>2018-04-26 03:00:00</td>\n",
       "    </tr>\n",
       "    <tr>\n",
       "      <th>4</th>\n",
       "      <td>240</td>\n",
       "      <td>20.460</td>\n",
       "      <td>1.086</td>\n",
       "      <td>2372.0</td>\n",
       "      <td>8.729</td>\n",
       "      <td>10.276</td>\n",
       "      <td>150.41</td>\n",
       "      <td>124.72</td>\n",
       "      <td>2.250</td>\n",
       "      <td>0.0</td>\n",
       "      <td>9.408</td>\n",
       "      <td>9.315</td>\n",
       "      <td>68.868</td>\n",
       "      <td>39.461</td>\n",
       "      <td>44.031</td>\n",
       "      <td>40.934</td>\n",
       "      <td>36.992</td>\n",
       "      <td>0.570</td>\n",
       "      <td>2018-04-26 04:00:00</td>\n",
       "    </tr>\n",
       "  </tbody>\n",
       "</table>\n",
       "</div>"
      ],
      "text/plain": [
       "   Time  Cooling efficiency  Cooling power  Motor power W   \n",
       "0     0              47.202          2.184         2411.6  \\\n",
       "1    60              29.208          1.414         2409.6   \n",
       "2   120              23.554          1.159         2397.8   \n",
       "3   180              21.540          1.101         2383.8   \n",
       "4   240              20.460          1.086         2372.0   \n",
       "\n",
       "   Volume flow l/min 1  Volume flow l/min 2  Pressure bar 1  Pressure bar 2   \n",
       "0                8.990               10.179          151.47          125.50  \\\n",
       "1                8.919               10.408          151.11          125.06   \n",
       "2                9.179               10.392          150.81          125.13   \n",
       "3                9.034               10.329          150.48          124.93   \n",
       "4                8.729               10.276          150.41          124.72   \n",
       "\n",
       "   Pressure bar 3  Pressure bar 4  Pressure bar 5  Pressure bar 6   \n",
       "0           2.305             0.0           9.936           9.818  \\\n",
       "1           2.281             0.0           9.700           9.592   \n",
       "2           2.227             0.0           9.606           9.505   \n",
       "3           2.320             0.0           9.528           9.422   \n",
       "4           2.250             0.0           9.408           9.315   \n",
       "\n",
       "   Efficiency factor  Temperature 1  Temperature  2  Temperature  3   \n",
       "0             68.039         35.570          40.961          38.320  \\\n",
       "1             68.264         36.156          41.258          38.680   \n",
       "2             68.595         37.488          42.129          39.234   \n",
       "3             68.628         38.633          43.039          40.086   \n",
       "4             68.868         39.461          44.031          40.934   \n",
       "\n",
       "   Temperature  4   Vibration mm/s                 Date  \n",
       "0          30.363            0.604  2018-04-26 00:00:00  \n",
       "1          33.648            0.590  2018-04-26 01:00:00  \n",
       "2          35.113            0.578  2018-04-26 02:00:00  \n",
       "3          36.133            0.565  2018-04-26 03:00:00  \n",
       "4          36.992            0.570  2018-04-26 04:00:00  "
      ]
     },
     "execution_count": 5,
     "metadata": {},
     "output_type": "execute_result"
    }
   ],
   "source": [
    "df.head()"
   ]
  },
  {
   "cell_type": "code",
   "execution_count": 6,
   "id": "5d50ac51-7a53-4171-a58a-d935509ada4d",
   "metadata": {
    "tags": []
   },
   "outputs": [],
   "source": [
    "label_df = pd.read_csv(\"profile.txt\",delimiter=\"\\t\"   , names=[\"Cooler condition\",\"Valve condition\",\"Internal pump leakage\",\"Hydraulic accumulator\",\"stable flag\"])"
   ]
  },
  {
   "cell_type": "code",
   "execution_count": 7,
   "id": "66ab44cf-9eb2-42a6-b175-e334d43a5160",
   "metadata": {
    "tags": []
   },
   "outputs": [
    {
     "data": {
      "text/html": [
       "<div>\n",
       "<style scoped>\n",
       "    .dataframe tbody tr th:only-of-type {\n",
       "        vertical-align: middle;\n",
       "    }\n",
       "\n",
       "    .dataframe tbody tr th {\n",
       "        vertical-align: top;\n",
       "    }\n",
       "\n",
       "    .dataframe thead th {\n",
       "        text-align: right;\n",
       "    }\n",
       "</style>\n",
       "<table border=\"1\" class=\"dataframe\">\n",
       "  <thead>\n",
       "    <tr style=\"text-align: right;\">\n",
       "      <th></th>\n",
       "      <th>Cooler condition</th>\n",
       "      <th>Valve condition</th>\n",
       "      <th>Internal pump leakage</th>\n",
       "      <th>Hydraulic accumulator</th>\n",
       "      <th>stable flag</th>\n",
       "    </tr>\n",
       "  </thead>\n",
       "  <tbody>\n",
       "    <tr>\n",
       "      <th>0</th>\n",
       "      <td>3</td>\n",
       "      <td>100</td>\n",
       "      <td>0</td>\n",
       "      <td>130</td>\n",
       "      <td>1</td>\n",
       "    </tr>\n",
       "    <tr>\n",
       "      <th>1</th>\n",
       "      <td>3</td>\n",
       "      <td>100</td>\n",
       "      <td>0</td>\n",
       "      <td>130</td>\n",
       "      <td>1</td>\n",
       "    </tr>\n",
       "    <tr>\n",
       "      <th>2</th>\n",
       "      <td>3</td>\n",
       "      <td>100</td>\n",
       "      <td>0</td>\n",
       "      <td>130</td>\n",
       "      <td>1</td>\n",
       "    </tr>\n",
       "    <tr>\n",
       "      <th>3</th>\n",
       "      <td>3</td>\n",
       "      <td>100</td>\n",
       "      <td>0</td>\n",
       "      <td>130</td>\n",
       "      <td>1</td>\n",
       "    </tr>\n",
       "    <tr>\n",
       "      <th>4</th>\n",
       "      <td>3</td>\n",
       "      <td>100</td>\n",
       "      <td>0</td>\n",
       "      <td>130</td>\n",
       "      <td>1</td>\n",
       "    </tr>\n",
       "  </tbody>\n",
       "</table>\n",
       "</div>"
      ],
      "text/plain": [
       "   Cooler condition  Valve condition  Internal pump leakage   \n",
       "0                 3              100                      0  \\\n",
       "1                 3              100                      0   \n",
       "2                 3              100                      0   \n",
       "3                 3              100                      0   \n",
       "4                 3              100                      0   \n",
       "\n",
       "   Hydraulic accumulator  stable flag  \n",
       "0                    130            1  \n",
       "1                    130            1  \n",
       "2                    130            1  \n",
       "3                    130            1  \n",
       "4                    130            1  "
      ]
     },
     "execution_count": 7,
     "metadata": {},
     "output_type": "execute_result"
    }
   ],
   "source": [
    "label_df.head()"
   ]
  },
  {
   "cell_type": "code",
   "execution_count": 8,
   "id": "295555bc-56e2-42f5-991a-73179cd40e76",
   "metadata": {
    "tags": []
   },
   "outputs": [
    {
     "name": "stdout",
     "output_type": "stream",
     "text": [
      "<class 'pandas.core.frame.DataFrame'>\n",
      "RangeIndex: 2205 entries, 0 to 2204\n",
      "Data columns (total 19 columns):\n",
      " #   Column               Non-Null Count  Dtype  \n",
      "---  ------               --------------  -----  \n",
      " 0   Time                 2205 non-null   int64  \n",
      " 1   Cooling efficiency   2205 non-null   float64\n",
      " 2   Cooling power        2205 non-null   float64\n",
      " 3   Motor power W        2205 non-null   float64\n",
      " 4   Volume flow l/min 1  2205 non-null   float64\n",
      " 5   Volume flow l/min 2  2205 non-null   float64\n",
      " 6   Pressure bar 1       2205 non-null   float64\n",
      " 7   Pressure bar 2       2205 non-null   float64\n",
      " 8   Pressure bar 3       2205 non-null   float64\n",
      " 9   Pressure bar 4       2205 non-null   float64\n",
      " 10  Pressure bar 5       2205 non-null   float64\n",
      " 11  Pressure bar 6       2205 non-null   float64\n",
      " 12  Efficiency factor    2205 non-null   float64\n",
      " 13  Temperature 1        2205 non-null   float64\n",
      " 14  Temperature  2       2205 non-null   float64\n",
      " 15  Temperature  3       2205 non-null   float64\n",
      " 16  Temperature  4       2205 non-null   float64\n",
      " 17   Vibration mm/s      2205 non-null   float64\n",
      " 18  Date                 2205 non-null   object \n",
      "dtypes: float64(17), int64(1), object(1)\n",
      "memory usage: 327.4+ KB\n"
     ]
    }
   ],
   "source": [
    "df.info()"
   ]
  },
  {
   "cell_type": "code",
   "execution_count": 9,
   "id": "00a45aa2-c923-4267-ac84-a1aedce52349",
   "metadata": {
    "tags": []
   },
   "outputs": [
    {
     "data": {
      "text/plain": [
       "Time                   0\n",
       "Cooling efficiency     0\n",
       "Cooling power          0\n",
       "Motor power W          0\n",
       "Volume flow l/min 1    0\n",
       "Volume flow l/min 2    0\n",
       "Pressure bar 1         0\n",
       "Pressure bar 2         0\n",
       "Pressure bar 3         0\n",
       "Pressure bar 4         0\n",
       "Pressure bar 5         0\n",
       "Pressure bar 6         0\n",
       "Efficiency factor      0\n",
       "Temperature 1          0\n",
       "Temperature  2         0\n",
       "Temperature  3         0\n",
       "Temperature  4         0\n",
       " Vibration mm/s        0\n",
       "Date                   0\n",
       "dtype: int64"
      ]
     },
     "execution_count": 9,
     "metadata": {},
     "output_type": "execute_result"
    }
   ],
   "source": [
    "df.isnull().sum()"
   ]
  },
  {
   "cell_type": "code",
   "execution_count": 10,
   "id": "3d38dcb3-0397-4326-b8dc-308d758c1acd",
   "metadata": {
    "tags": []
   },
   "outputs": [
    {
     "data": {
      "text/plain": [
       "0"
      ]
     },
     "execution_count": 10,
     "metadata": {},
     "output_type": "execute_result"
    }
   ],
   "source": [
    "df.duplicated().sum()"
   ]
  },
  {
   "cell_type": "code",
   "execution_count": 11,
   "id": "96996e04-3834-4658-bc72-5df0fd722336",
   "metadata": {
    "tags": []
   },
   "outputs": [
    {
     "name": "stdout",
     "output_type": "stream",
     "text": [
      "<class 'pandas.core.frame.DataFrame'>\n",
      "RangeIndex: 2205 entries, 0 to 2204\n",
      "Data columns (total 5 columns):\n",
      " #   Column                 Non-Null Count  Dtype\n",
      "---  ------                 --------------  -----\n",
      " 0   Cooler condition       2205 non-null   int64\n",
      " 1   Valve condition        2205 non-null   int64\n",
      " 2   Internal pump leakage  2205 non-null   int64\n",
      " 3   Hydraulic accumulator  2205 non-null   int64\n",
      " 4   stable flag            2205 non-null   int64\n",
      "dtypes: int64(5)\n",
      "memory usage: 86.3 KB\n"
     ]
    }
   ],
   "source": [
    "label_df.info()"
   ]
  },
  {
   "cell_type": "code",
   "execution_count": 12,
   "id": "43c5a055-80e6-41b6-aec7-f5e593f50acd",
   "metadata": {
    "tags": []
   },
   "outputs": [],
   "source": [
    "df.Date = pd.to_datetime(df.Date)"
   ]
  },
  {
   "cell_type": "code",
   "execution_count": 13,
   "id": "cfd1467b-e623-4770-bc76-e561b9f5be05",
   "metadata": {
    "tags": []
   },
   "outputs": [],
   "source": [
    "label_df.columns = label_df.columns.str.replace(\" \",\"_\").str.lower()"
   ]
  },
  {
   "cell_type": "markdown",
   "id": "ba5b62a6-b70e-4afd-8dfa-2a393b072748",
   "metadata": {},
   "source": [
    "## LABELS"
   ]
  },
  {
   "cell_type": "markdown",
   "id": "7e49bb0b-2fd8-4852-836d-fc90b6093e20",
   "metadata": {},
   "source": [
    "## Cooler condition"
   ]
  },
  {
   "cell_type": "markdown",
   "id": "f41f65ff-20f0-45f1-9f0d-6bd03d71792f",
   "metadata": {},
   "source": [
    "##### 3: close to total failure\n",
    "##### 20: reduced effifiency\n",
    "##### 100: full efficiency"
   ]
  },
  {
   "cell_type": "code",
   "execution_count": 14,
   "id": "236f1d74-a8ac-473e-93c2-a5844e02a22c",
   "metadata": {
    "tags": []
   },
   "outputs": [],
   "source": [
    "label_df.cooler_condition = label_df.cooler_condition.apply(lambda x : \"close to total failure\" if x == 3 else (\"reduced effifiency\" if x == 20 else (\"full efficiency\" if x == 100 else x)))"
   ]
  },
  {
   "cell_type": "code",
   "execution_count": 15,
   "id": "fbd32a3f-35fe-4bea-b982-78c8804d687c",
   "metadata": {
    "tags": []
   },
   "outputs": [
    {
     "data": {
      "text/plain": [
       "1745           full efficiency\n",
       "1556           full efficiency\n",
       "2103           full efficiency\n",
       "1285        reduced effifiency\n",
       "665     close to total failure\n",
       "Name: cooler_condition, dtype: object"
      ]
     },
     "execution_count": 15,
     "metadata": {},
     "output_type": "execute_result"
    }
   ],
   "source": [
    "label_df.cooler_condition.sample(5)"
   ]
  },
  {
   "cell_type": "markdown",
   "id": "c516c2f5-b90a-43e9-b316-aa8a4f66f5a5",
   "metadata": {},
   "source": [
    "## Valve condition"
   ]
  },
  {
   "cell_type": "markdown",
   "id": "cdea6e20-ef6a-41ec-84cf-7305f701a9ab",
   "metadata": {},
   "source": [
    "#### 100: optimal switching behavio\n",
    "#### 90: small lag\n",
    "#### 80: severe lag"
   ]
  },
  {
   "cell_type": "code",
   "execution_count": 16,
   "id": "f26af1ea-698f-47d4-9347-05e93704e93a",
   "metadata": {
    "tags": []
   },
   "outputs": [],
   "source": [
    "label_df.valve_condition = label_df.valve_condition.apply(lambda x : \"optimal switching behavior\" if x == 100 else (\"small lag\" if x == 90 else \"severe lag\" if x == 80 else (\"close to total failure\" if x == 73 else x)))"
   ]
  },
  {
   "cell_type": "code",
   "execution_count": 17,
   "id": "cc104484-4079-495e-a28e-b968c44147bf",
   "metadata": {
    "tags": []
   },
   "outputs": [
    {
     "data": {
      "text/plain": [
       "595     optimal switching behavior\n",
       "1648    optimal switching behavior\n",
       "1411                     small lag\n",
       "1463    optimal switching behavior\n",
       "1754    optimal switching behavior\n",
       "Name: valve_condition, dtype: object"
      ]
     },
     "execution_count": 17,
     "metadata": {},
     "output_type": "execute_result"
    }
   ],
   "source": [
    "label_df.valve_condition.sample(5)"
   ]
  },
  {
   "cell_type": "markdown",
   "id": "c9cf42c5-4f45-48fc-8ddb-7475e9282ee8",
   "metadata": {},
   "source": [
    "## Internal pump leakage"
   ]
  },
  {
   "cell_type": "markdown",
   "id": "785640a2-be72-4c29-b6d7-e4d795961087",
   "metadata": {},
   "source": [
    "#### 0: no leakage\n",
    "#### 1: weak leakage\n",
    "#### 2: severe leakage"
   ]
  },
  {
   "cell_type": "code",
   "execution_count": 18,
   "id": "200fb2e4-0178-4a06-8777-9fddd715fe10",
   "metadata": {
    "tags": []
   },
   "outputs": [],
   "source": [
    "label_df.internal_pump_leakage = label_df.internal_pump_leakage.apply(lambda x : \"no leakage\" if x == 0 else (\"weak leakage\" if x == 1 else (\"severe leakage\" if x == 2 else x)))"
   ]
  },
  {
   "cell_type": "code",
   "execution_count": 19,
   "id": "043fff51-63be-4e6f-b179-3221247c6a46",
   "metadata": {
    "tags": []
   },
   "outputs": [
    {
     "data": {
      "text/plain": [
       "1905      no leakage\n",
       "1650      no leakage\n",
       "387     weak leakage\n",
       "1800      no leakage\n",
       "569       no leakage\n",
       "Name: internal_pump_leakage, dtype: object"
      ]
     },
     "execution_count": 19,
     "metadata": {},
     "output_type": "execute_result"
    }
   ],
   "source": [
    "label_df.internal_pump_leakage.sample(5)"
   ]
  },
  {
   "cell_type": "markdown",
   "id": "8129c155-6c5b-4867-b225-9d3a7aa331d9",
   "metadata": {},
   "source": [
    "## Hydraulic accumulator"
   ]
  },
  {
   "cell_type": "markdown",
   "id": "5aca6db1-e1d7-4ad4-b885-14dfe08579de",
   "metadata": {},
   "source": [
    "#### 130: optimal pressure\n",
    "#### 115: slightly reduced pressure\n",
    "#### 100: severely reduced pressure\n",
    "#### 90: close to total failure"
   ]
  },
  {
   "cell_type": "code",
   "execution_count": 20,
   "id": "00e89f9a-934b-4124-a111-1779e051c62a",
   "metadata": {
    "tags": []
   },
   "outputs": [],
   "source": [
    "label_df.hydraulic_accumulator = label_df.hydraulic_accumulator.apply(lambda x : \"optimal pressure\" if x == 130 else (\"slightly reduced pressure\" if x == 115 else (\"severely reduced pressure\" if x == 100 else (\"close to total faiure\" if x == 90  else x ))))"
   ]
  },
  {
   "cell_type": "code",
   "execution_count": 21,
   "id": "bd8c8403-90ae-45de-b9aa-150c0f8611df",
   "metadata": {
    "tags": []
   },
   "outputs": [
    {
     "data": {
      "text/plain": [
       "949              optimal pressure\n",
       "404     slightly reduced pressure\n",
       "1685             optimal pressure\n",
       "1620        close to total faiure\n",
       "2089        close to total faiure\n",
       "Name: hydraulic_accumulator, dtype: object"
      ]
     },
     "execution_count": 21,
     "metadata": {},
     "output_type": "execute_result"
    }
   ],
   "source": [
    "label_df.hydraulic_accumulator.sample(5)"
   ]
  },
  {
   "cell_type": "markdown",
   "id": "de94eaef-ac5c-44f8-baa9-cf68b23e5ece",
   "metadata": {},
   "source": [
    "## Stable flag"
   ]
  },
  {
   "cell_type": "markdown",
   "id": "783a773b-f9b3-4148-a3db-c1cfb82a0ef3",
   "metadata": {},
   "source": [
    "#### 0: conditions were stable\n",
    "#### 1: static conditions might not have been reached yet"
   ]
  },
  {
   "cell_type": "code",
   "execution_count": 22,
   "id": "7c20bfe0-934b-4e45-96e6-f51b6ccf2ba2",
   "metadata": {
    "tags": []
   },
   "outputs": [],
   "source": [
    "label_df.stable_flag = label_df.stable_flag.apply(lambda x : \"conditions were stable\" if x == 0 else \"static conditions might not have been reached yet\")"
   ]
  },
  {
   "cell_type": "code",
   "execution_count": 23,
   "id": "ea699827-95fc-417c-89de-fac31f30a869",
   "metadata": {
    "tags": []
   },
   "outputs": [
    {
     "data": {
      "text/plain": [
       "2079                               conditions were stable\n",
       "937     static conditions might not have been reached yet\n",
       "517     static conditions might not have been reached yet\n",
       "481                                conditions were stable\n",
       "2169                               conditions were stable\n",
       "Name: stable_flag, dtype: object"
      ]
     },
     "execution_count": 23,
     "metadata": {},
     "output_type": "execute_result"
    }
   ],
   "source": [
    "label_df.stable_flag.sample(5)"
   ]
  },
  {
   "cell_type": "code",
   "execution_count": 24,
   "id": "86c3e097-c53a-4457-bbdb-67d455420932",
   "metadata": {},
   "outputs": [
    {
     "data": {
      "image/png": "[encoded data removed]",
      "text/plain": [
       "<Figure size 2200x1500 with 5 Axes>"
      ]
     },
     "metadata": {},
     "output_type": "display_data"
    }
   ],
   "source": [
    "k=1\n",
    "plt.figure(figsize = (22,15))\n",
    "for i in label_df.columns:\n",
    "    plt.subplot(3,2,k)\n",
    "    ax = sns.barplot(x = label_df[i].value_counts().index,y=label_df[i].value_counts().values)\n",
    "    plt.xticks(rotation = 0)\n",
    "    plt.xlabel(None)\n",
    "    plt.title(\"{}\".format(i),color=\"darkred\")\n",
    "    for i in ax.containers:\n",
    "        ax.bar_label(i)\n",
    "    k+=1"
   ]
  },
  {
   "cell_type": "code",
   "execution_count": 25,
   "id": "c0fb7f5e-6ba4-432d-a69e-4db6794510f8",
   "metadata": {},
   "outputs": [],
   "source": [
    "combined_df = pd.concat(objs=[df,label_df],axis = 1)"
   ]
  },
  {
   "cell_type": "code",
   "execution_count": 26,
   "id": "0c82f60e-272e-4637-8b95-a351cea8926f",
   "metadata": {},
   "outputs": [],
   "source": [
    "from plotly.express import scatter_3d\n",
    "from ipywidgets import interact"
   ]
  },
  {
   "cell_type": "code",
   "execution_count": 27,
   "id": "9bcd83b6-d6a9-4202-8050-0fe876b8413d",
   "metadata": {
    "tags": []
   },
   "outputs": [],
   "source": [
    "def scatter_3dim(f1,f2,f3,cat_col):\n",
    "    scatter_3d(data_frame=combined_df,x=f1,y=f2,z=f3,color=cat_col,width=750,height=500).show()"
   ]
  },
  {
   "cell_type": "code",
   "execution_count": 28,
   "id": "a3338379-e89b-4c9f-aa7a-8a9036b21f6b",
   "metadata": {
    "tags": []
   },
   "outputs": [],
   "source": [
    "def interactive():\n",
    "    interact(scatter_3dim,f1=df.columns,f2=df.columns,f3=df.columns,cat_col = label_df.columns)"
   ]
  },
  {
   "cell_type": "code",
   "execution_count": 29,
   "id": "39f3c5ce-f02c-4804-8a98-e3ac478b673e",
   "metadata": {
    "tags": []
   },
   "outputs": [
    {
     "data": {
      "application/vnd.jupyter.widget-view+json": {
       "model_id": "b84e7ee13b8144a186311d498b0ce48a",
       "version_major": 2,
       "version_minor": 0
      },
      "text/plain": [
       "interactive(children=(Dropdown(description='f1', options=('Time', 'Cooling efficiency', 'Cooling power', 'Moto…"
      ]
     },
     "metadata": {},
     "output_type": "display_data"
    }
   ],
   "source": [
    "interactive()"
   ]
  },
  {
   "cell_type": "code",
   "execution_count": 64,
   "id": "d3f418dc-d83f-4064-855b-fdbf76fb69b6",
   "metadata": {
    "tags": []
   },
   "outputs": [],
   "source": [
    "def classifier(feature,CLF):\n",
    "    \"\"\" Predict the classes with classifier model \"CLF\" for class column \"feature\" \"\"\"\n",
    "    \n",
    "    # Encoding labels\n",
    "    enc = OrdinalEncoder()\n",
    "    \n",
    "    #Transforming labels\n",
    "    encoded_label =  enc.fit_transform(label_df[feature].to_frame())\n",
    "    \n",
    "    # Visualizing the encoded labels\n",
    "    #y_all_df= pd.DataFrame(data = encoded_label_df,columns=label_df.columns)\n",
    "    \n",
    "    # Selecting classifier\n",
    "    clf = CLF\n",
    "    \n",
    "    # train data\n",
    "    X=df.drop(\"Date\",axis = 1) \n",
    "    \n",
    "    # test data\n",
    "    y = encoded_label   \n",
    "    \n",
    "    #splitting train test data\n",
    "    X_train, X_test, y_train, y_test = train_test_split(X, y, stratify=y , test_size=0.2, random_state=42) \n",
    "    \n",
    "    # Fitting model\n",
    "    clf.fit(X_train,y_train)\n",
    "    \n",
    "    # Making predictions\n",
    "    y_pred = clf.predict(X_test)\n",
    "    compare_y = pd.DataFrame(enc.inverse_transform(y_pred.reshape(-1,1)),columns=[\"predictions\"])\n",
    "    actual = enc.inverse_transform(y_test)\n",
    "    compare_y[\"actual\"] = actual.reshape(-1,)\n",
    "    \n",
    "    #Evaulating results with classification report metrics (precision, recall, accuracy,f1)\n",
    "    print(\"\\n      CLASSIFICATION REPORT for {}\\n\\n\".format(CLF),classification_report(y_test,y_pred))\n",
    "    \n",
    "    # Feature importances\n",
    "    plt.figure(figsize = (26,5))\n",
    "    plt.subplot(1,1,1)\n",
    "    feature_importances = pd.DataFrame(data = clf.feature_importances_,index=clf.feature_names_in_,columns=[\"coef\"]).sort_values(by=\"coef\",ascending=False)\n",
    "    ax=sns.barplot(x = feature_importances.index,y=feature_importances.coef)\n",
    "    for i in ax.containers:ax.bar_label(i,fmt = \"%.2f\")\n",
    "    plt.title(\"Feature Impportances\")\n",
    "    \n",
    "    # Visualizing Confusing Matrix\n",
    "    ConfusionMatrixDisplay(confusion_matrix(y_test,y_pred)).plot()\n",
    "   \n",
    "    return compare_y.T\n",
    "    "
   ]
  },
  {
   "cell_type": "markdown",
   "id": "a89bddc6-05c6-41db-99e8-1444be160fcb",
   "metadata": {},
   "source": [
    "## Implementing RandomForest, XGB , AdaBoosT, DecisionTree, GradientBoosting classifiers for \"MULTICLASS\" classification with vanilla form of algorithms"
   ]
  },
  {
   "cell_type": "code",
   "execution_count": 65,
   "id": "c67201d1-9fc6-47d9-85a2-593825a60d34",
   "metadata": {
    "tags": []
   },
   "outputs": [],
   "source": [
    "algoritmhs= [RandomForestClassifier(),XGBClassifier(),AdaBoostClassifier(),DecisionTreeClassifier(),GradientBoostingClassifier()]"
   ]
  },
  {
   "cell_type": "code",
   "execution_count": 66,
   "id": "53f7e579-d65f-403c-a3aa-a3aa4b6470d8",
   "metadata": {
    "tags": []
   },
   "outputs": [
    {
     "data": {
      "application/vnd.jupyter.widget-view+json": {
       "model_id": "0691d97bab6446e7a8abc4c35328383a",
       "version_major": 2,
       "version_minor": 0
      },
      "text/plain": [
       "interactive(children=(Dropdown(description='feature', options=('cooler_condition', 'valve_condition', 'interna…"
      ]
     },
     "metadata": {},
     "output_type": "display_data"
    },
    {
     "data": {
      "text/plain": [
       "<function __main__.classifier(feature, CLF)>"
      ]
     },
     "execution_count": 66,
     "metadata": {},
     "output_type": "execute_result"
    }
   ],
   "source": [
    "interact(classifier,feature = label_df.columns[:-1],CLF = [RandomForestClassifier(),XGBClassifier(),AdaBoostClassifier(),DecisionTreeClassifier(),GradientBoostingClassifier()])"
   ]
  },
  {
   "cell_type": "code",
   "execution_count": null,
   "id": "88fdd4fb-f8f2-413c-8b3e-e4c51447e819",
   "metadata": {
    "tags": []
   },
   "outputs": [],
   "source": []
  },
  {
   "cell_type": "markdown",
   "id": "e354809c-8cbd-4a73-9aca-4ee027456d5b",
   "metadata": {},
   "source": [
    "## Implementing RandomForest, XGB , AdaBoosT, DecisionTree, GradientBoosting classifiers for \"BINARY\" classification with vanilla forms of algorithms"
   ]
  },
  {
   "cell_type": "code",
   "execution_count": 39,
   "id": "352d6994-816f-4eb1-be41-b282e0ac1f0f",
   "metadata": {
    "tags": []
   },
   "outputs": [
    {
     "data": {
      "application/vnd.jupyter.widget-view+json": {
       "model_id": "b8dd971bd44347ee81a89108d91cdf31",
       "version_major": 2,
       "version_minor": 0
      },
      "text/plain": [
       "interactive(children=(Text(value='stable_flag', description='feature'), Dropdown(description='CLF', options=(R…"
      ]
     },
     "metadata": {},
     "output_type": "display_data"
    },
    {
     "data": {
      "text/plain": [
       "<function __main__.classifier(feature, CLF)>"
      ]
     },
     "execution_count": 39,
     "metadata": {},
     "output_type": "execute_result"
    }
   ],
   "source": [
    "interact(classifier,feature = \"stable_flag\",CLF = algoritmhs)"
   ]
  },
  {
   "cell_type": "code",
   "execution_count": null,
   "id": "93faeab2-e319-4308-8f3a-086631f0c2ff",
   "metadata": {},
   "outputs": [],
   "source": []
  }
 ],
 "metadata": {
  "kernelspec": {
   "display_name": "Python 3 (ipykernel)",
   "language": "python",
   "name": "python3"
  },
  "language_info": {
   "codemirror_mode": {
    "name": "ipython",
    "version": 3
   },
   "file_extension": ".py",
   "mimetype": "text/x-python",
   "name": "python",
   "nbconvert_exporter": "python",
   "pygments_lexer": "ipython3",
   "version": "3.11.3"
  }
 },
 "nbformat": 4,
 "nbformat_minor": 5
}
